{
 "cells": [
  {
   "cell_type": "code",
   "execution_count": null,
   "metadata": {},
   "outputs": [],
   "source": [
    "# !pip install xarray cdsapi"
   ]
  },
  {
   "cell_type": "code",
   "execution_count": null,
   "metadata": {},
   "outputs": [],
   "source": [
    "import xarray\n",
    "from typing import Optional\n",
    "import matplotlib.pyplot as plt\n",
    "import numpy as np\n",
    "import math\n",
    "import pandas\n",
    "import cdsapi"
   ]
  },
  {
   "cell_type": "code",
   "execution_count": null,
   "metadata": {},
   "outputs": [],
   "source": [
    "# @title Plotting functions\n",
    "\n",
    "def select(\n",
    "    data: xarray.Dataset,\n",
    "    variable: str,\n",
    "    level: Optional[int] = None,\n",
    "    max_steps: Optional[int] = None\n",
    "    ) -> xarray.Dataset:\n",
    "  data = data[variable]\n",
    "  if \"batch\" in data.dims:\n",
    "    data = data.isel(batch=0)\n",
    "  if max_steps is not None and \"time\" in data.sizes and max_steps < data.sizes[\"time\"]:\n",
    "    data = data.isel(time=range(0, max_steps))\n",
    "  if level is not None and \"level\" in data.coords:\n",
    "    data = data.sel(level=level)\n",
    "  return data\n",
    "\n",
    "def scale(\n",
    "    data: xarray.Dataset,\n",
    "    center: Optional[float] = None,\n",
    "    robust: bool = False,\n",
    "    ) -> tuple[xarray.Dataset, matplotlib.colors.Normalize, str]:\n",
    "  vmin = np.nanpercentile(data, (2 if robust else 0))\n",
    "  vmax = np.nanpercentile(data, (98 if robust else 100))\n",
    "  if center is not None:\n",
    "    diff = max(vmax - center, center - vmin)\n",
    "    vmin = center - diff\n",
    "    vmax = center + diff\n",
    "  return (data, matplotlib.colors.Normalize(vmin, vmax),\n",
    "          (\"RdBu_r\" if center is not None else \"viridis\"))\n",
    "\n",
    "def plot_data(\n",
    "    data: dict[str, xarray.Dataset],\n",
    "    fig_title: str,\n",
    "    plot_size: float = 5,\n",
    "    robust: bool = False,\n",
    "    cols: int = 4\n",
    "    ) -> tuple[xarray.Dataset, matplotlib.colors.Normalize, str]:\n",
    "\n",
    "  first_data = next(iter(data.values()))[0]\n",
    "  max_steps = first_data.sizes.get(\"time\", 1)\n",
    "  assert all(max_steps == d.sizes.get(\"time\", 1) for d, _, _ in data.values())\n",
    "\n",
    "  cols = min(cols, len(data))\n",
    "  rows = math.ceil(len(data) / cols)\n",
    "  figure = plt.figure(figsize=(plot_size * 2 * cols,\n",
    "                               plot_size * rows))\n",
    "  figure.suptitle(fig_title, fontsize=16)\n",
    "  figure.subplots_adjust(wspace=0, hspace=0)\n",
    "  figure.tight_layout()\n",
    "\n",
    "  images = []\n",
    "  for i, (title, (plot_data, norm, cmap)) in enumerate(data.items()):\n",
    "    ax = figure.add_subplot(rows, cols, i+1)\n",
    "    ax.set_xticks([])\n",
    "    ax.set_yticks([])\n",
    "    ax.set_title(title)\n",
    "    im = ax.imshow(\n",
    "        plot_data.isel(time=0, missing_dims=\"ignore\"), norm=norm,\n",
    "        origin=\"lower\", cmap=cmap)\n",
    "    plt.colorbar(\n",
    "        mappable=im,\n",
    "        ax=ax,\n",
    "        orientation=\"vertical\",\n",
    "        pad=0.02,\n",
    "        aspect=16,\n",
    "        shrink=0.75,\n",
    "        cmap=cmap,\n",
    "        extend=(\"both\" if robust else \"neither\"))\n",
    "    images.append(im)"
   ]
  },
  {
   "cell_type": "markdown",
   "metadata": {},
   "source": [
    "## Plot input data"
   ]
  },
  {
   "cell_type": "code",
   "execution_count": null,
   "metadata": {},
   "outputs": [],
   "source": [
    "plot_size = 7\n",
    "\n",
    "with (\"single-level.nc\").open(\"rb\") as f:\n",
    "  example_batch = xarray.load_dataset(f).compute()\n",
    "\n",
    "plot_example_variable = \"2m_temperature\"\n",
    "plot_example_level = 50\n",
    "plot_example_max_steps = 1\n",
    "\n",
    "data = {\n",
    "    \" \": scale(select(example_batch, plot_example_variable, plot_example_level, plot_example_max_steps),\n",
    "              robust=plot_example_robust),\n",
    "}\n",
    "fig_title = plot_example_variable\n",
    "if \"level\" in example_batch[plot_example_variable].coords:\n",
    "  fig_title += f\" at {plot_example_level} hPa\"\n",
    "\n",
    "plot_data(data, fig_title, plot_size, plot_example_robust)"
   ]
  },
  {
   "cell_type": "markdown",
   "metadata": {},
   "source": [
    "## Plot predicted data"
   ]
  },
  {
   "cell_type": "markdown",
   "metadata": {},
   "source": [
    "### Fetch the real target data"
   ]
  },
  {
   "cell_type": "code",
   "execution_count": null,
   "metadata": {},
   "outputs": [],
   "source": [
    "client = cdsapi.Client()"
   ]
  },
  {
   "cell_type": "code",
   "execution_count": null,
   "metadata": {},
   "outputs": [],
   "source": [
    "day = 15\n",
    "month = 3\n",
    "year = 2024\n",
    "\n",
    "client.retrieve(\n",
    "    'reanalysis-era5-single-levels',\n",
    "    {\n",
    "        'product_type': 'reanalysis',\n",
    "        'variable': singlelevelfields,\n",
    "        'grid': '1.0/1.0',\n",
    "        'year': [year],\n",
    "        'month': [month],\n",
    "        'day': [day],\n",
    "        'time': ['18:00'], # time of first prediction\n",
    "        'format': 'netcdf'\n",
    "    },\n",
    "    'single-level-truth.nc'\n",
    ")\n",
    "eval_targets = xarray.open_dataset('single-level-truth.nc', engine = scipy.__name__).to_dataframe()\n",
    "eval_targets = eval_targets.rename(columns = {col:eval_targetsfields[ind] for ind, col in enumerate(eval_targets.columns.values.tolist())})\n",
    "eval_targets = eval_targets.rename(columns = {'geopotential': 'geopotential_at_surface'})"
   ]
  },
  {
   "cell_type": "markdown",
   "metadata": {},
   "source": [
    "### Compare with predictions"
   ]
  },
  {
   "cell_type": "code",
   "execution_count": null,
   "metadata": {},
   "outputs": [],
   "source": [
    "# @title Plot predictions\n",
    "\n",
    "plot_size = 5\n",
    "predictions = pd.read_csv(\"predictions.csv\")\n",
    "predictions = xarray.Dataset.from_dataframe(predictions)\n",
    "predictions = predictions.set_index(\"time\").to_array(\"variable\")\n",
    "predictions = predictions.rename({\"index\": \"time\"})\n",
    "predictions = predictions.compute()\n",
    "\n",
    "plot_pred_variable = \"2m_temperature\"\n",
    "plot_pred_level = 50\n",
    "plot_pred_robust = True\n",
    "plot_max_steps = 1 # min(predictions.dims[\"time\"], plot_pred_max_steps.value)\n",
    "\n",
    "\n",
    "data = {\n",
    "    \"Targets\": scale(select(eval_targets, plot_pred_variable, plot_pred_level, plot_max_steps), robust=plot_pred_robust),\n",
    "    \"Predictions\": scale(select(predictions, plot_pred_variable, plot_pred_level, plot_max_steps), robust=plot_pred_robust),\n",
    "    \"Diff\": scale((select(eval_targets, plot_pred_variable, plot_pred_level, plot_max_steps) -\n",
    "                        select(predictions, plot_pred_variable, plot_pred_level, plot_max_steps)),\n",
    "                       robust=plot_pred_robust, center=0),\n",
    "}\n",
    "fig_title = plot_pred_variable\n",
    "if \"level\" in predictions[plot_pred_variable].coords:\n",
    "  fig_title += f\" at {plot_pred_level} hPa\"\n",
    "\n",
    "plot_data(data, fig_title, plot_size, plot_pred_robust)"
   ]
  }
 ],
 "metadata": {
  "kernelspec": {
   "display_name": "graphcast",
   "language": "python",
   "name": "python3"
  },
  "language_info": {
   "name": "python",
   "version": "3.8.8"
  }
 },
 "nbformat": 4,
 "nbformat_minor": 2
}
