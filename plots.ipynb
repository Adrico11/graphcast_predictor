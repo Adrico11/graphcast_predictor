{
  "cells": [
    {
      "cell_type": "markdown",
      "metadata": {
        "id": "vQ-Lqvhbgtnk"
      },
      "source": [
        "## Imports and utility functions"
      ]
    },
    {
      "cell_type": "code",
      "execution_count": null,
      "metadata": {
        "colab": {
          "base_uri": "https://localhost:8080/"
        },
        "id": "4eZgZkfDsGYH",
        "outputId": "39ce83ea-4914-484a-d2ac-760d47ae3192"
      },
      "outputs": [],
      "source": [
        "!pip install xarray cdsapi"
      ]
    },
    {
      "cell_type": "code",
      "execution_count": null,
      "metadata": {
        "id": "0oPEO0aosGYN"
      },
      "outputs": [],
      "source": [
        "import xarray\n",
        "from typing import Optional\n",
        "import matplotlib.pyplot as plt\n",
        "import matplotlib.colors as colors\n",
        "import numpy as np\n",
        "import math\n",
        "import pandas as pd\n",
        "import cdsapi\n",
        "import scipy"
      ]
    },
    {
      "cell_type": "code",
      "execution_count": null,
      "metadata": {
        "id": "7mQXcx_fsGYO"
      },
      "outputs": [],
      "source": [
        "def select(\n",
        "    data: xarray.Dataset,\n",
        "    variable: str,\n",
        "    level: Optional[int] = None,\n",
        "    max_steps: Optional[int] = None\n",
        "    ) -> xarray.Dataset:\n",
        "  data = data[variable]\n",
        "  if \"batch\" in data.dims:\n",
        "    data = data.isel(batch=0)\n",
        "  if max_steps is not None and \"time\" in data.sizes and max_steps < data.sizes[\"time\"]:\n",
        "    data = data.isel(time=range(0, max_steps))\n",
        "  if level is not None and \"level\" in data.coords:\n",
        "    data = data.sel(level=level)\n",
        "  return data\n",
        "\n",
        "def scale(\n",
        "    data: xarray.Dataset,\n",
        "    center: Optional[float] = None,\n",
        "    robust: bool = False,\n",
        "    ) -> tuple[xarray.Dataset, colors.Normalize, str]:\n",
        "  vmin = np.nanpercentile(data, (2 if robust else 0))\n",
        "  vmax = np.nanpercentile(data, (98 if robust else 100))\n",
        "  if center is not None:\n",
        "    diff = max(vmax - center, center - vmin)\n",
        "    vmin = center - diff\n",
        "    vmax = center + diff\n",
        "  return (data, colors.Normalize(vmin, vmax),\n",
        "          (\"RdBu_r\" if center is not None else \"viridis\"))\n",
        "\n",
        "def plot_data(\n",
        "    data: dict[str, xarray.Dataset],\n",
        "    fig_title: str,\n",
        "    plot_size: float = 5,\n",
        "    robust: bool = False,\n",
        "    cols: int = 4\n",
        "    ) -> tuple[xarray.Dataset, colors.Normalize, str]:\n",
        "\n",
        "  first_data = next(iter(data.values()))[0]\n",
        "  max_steps = first_data.sizes.get(\"time\", 1)\n",
        "  assert all(max_steps == d.sizes.get(\"time\", 1) for d, _, _ in data.values())\n",
        "\n",
        "  cols = min(cols, len(data))\n",
        "  rows = math.ceil(len(data) / cols)\n",
        "  figure = plt.figure(figsize=(plot_size * 2 * cols,\n",
        "                               plot_size * rows))\n",
        "  figure.suptitle(fig_title, fontsize=16)\n",
        "  figure.subplots_adjust(wspace=0, hspace=0)\n",
        "  figure.tight_layout()\n",
        "\n",
        "  images = []\n",
        "  for i, (title, (plot_data, norm, cmap)) in enumerate(data.items()):\n",
        "    ax = figure.add_subplot(rows, cols, i+1)\n",
        "    ax.set_xticks([])\n",
        "    ax.set_yticks([])\n",
        "    ax.set_title(title)\n",
        "    im = ax.imshow(\n",
        "        plot_data.isel(time=0, missing_dims=\"ignore\"), norm=norm,\n",
        "        origin=\"lower\", cmap=cmap)\n",
        "    plt.colorbar(\n",
        "        mappable=im,\n",
        "        ax=ax,\n",
        "        orientation=\"vertical\",\n",
        "        pad=0.02,\n",
        "        aspect=16,\n",
        "        shrink=0.75,\n",
        "        cmap=cmap,\n",
        "        extend=(\"both\" if robust else \"neither\"))\n",
        "    images.append(im)"
      ]
    },
    {
      "cell_type": "markdown",
      "metadata": {
        "id": "WgmR6IUwsGYQ"
      },
      "source": [
        "## Plot input data"
      ]
    },
    {
      "cell_type": "markdown",
      "metadata": {},
      "source": [
        "#### Additional steps for Google Colab"
      ]
    },
    {
      "cell_type": "code",
      "execution_count": null,
      "metadata": {
        "colab": {
          "base_uri": "https://localhost:8080/"
        },
        "id": "LRdL1nuyskbM",
        "outputId": "6c24b2fe-c3ea-439a-eb1c-3e6994503100"
      },
      "outputs": [],
      "source": [
        "from google.colab import drive\n",
        "drive.mount('/content/drive')"
      ]
    },
    {
      "cell_type": "code",
      "execution_count": null,
      "metadata": {
        "colab": {
          "base_uri": "https://localhost:8080/"
        },
        "id": "s-nICJ2NsrEI",
        "outputId": "8099854c-6a07-46a3-b8c6-a9d5420d944c"
      },
      "outputs": [],
      "source": [
        "%cd drive/MyDrive/XXX"
      ]
    },
    {
      "cell_type": "markdown",
      "metadata": {},
      "source": [
        "#### Plotting"
      ]
    },
    {
      "cell_type": "code",
      "execution_count": null,
      "metadata": {
        "colab": {
          "base_uri": "https://localhost:8080/",
          "height": 1000
        },
        "id": "_BXxiIQSsGYS",
        "outputId": "85d2a0b8-e837-4f50-df5d-fd882599b155"
      },
      "outputs": [],
      "source": [
        "plot_size = 5\n",
        "\n",
        "with open(\"single-level.nc\", \"rb\") as f:\n",
        "  example_batch = xarray.load_dataset(f).compute()\n",
        "\n",
        "# Europe in the middle + Map not upside down :\n",
        "# in the longitude dimension, map values higher than 180 to values - 360\n",
        "example_batch[\"longitude\"] = xarray.where(example_batch['longitude'] > 180, example_batch['longitude'] - 360, example_batch['longitude'])\n",
        "# sort example_batch by latitude and longitude\n",
        "example_batch = example_batch.sortby([\"latitude\", \"longitude\"])\n",
        "\n",
        "plot_example_level = 50\n",
        "plot_example_max_steps = 1\n",
        "plot_example_robust = True\n",
        "\n",
        "variables = [\"t2m\", \"u10\", \"msl\"]\n",
        "\n",
        "for variable in variables:\n",
        "  plot_example_variable = variable\n",
        "\n",
        "  data = {\n",
        "      \" \": scale(select(example_batch, plot_example_variable, plot_example_level, plot_example_max_steps),\n",
        "                robust=plot_example_robust),\n",
        "  }\n",
        "  fig_title = plot_example_variable\n",
        "  if \"level\" in example_batch[plot_example_variable].coords:\n",
        "    fig_title += f\" at {plot_example_level} hPa\"\n",
        "\n",
        "  plot_data(data, fig_title, plot_size, plot_example_robust)"
      ]
    },
    {
      "cell_type": "markdown",
      "metadata": {
        "id": "ibA8Ru2zsGYT"
      },
      "source": [
        "## Plot predicted data"
      ]
    },
    {
      "cell_type": "markdown",
      "metadata": {
        "id": "mrwiYt7PsGYU"
      },
      "source": [
        "### Fetch the real target data"
      ]
    },
    {
      "cell_type": "code",
      "execution_count": null,
      "metadata": {},
      "outputs": [],
      "source": [
        "## IN GOOGLE COLAB\n",
        "\n",
        "url = 'url: XXX'\n",
        "key = 'key: XXX'\n",
        "\n",
        "with open('/root/.cdsapirc', 'w') as f:\n",
        "    f.write('\\n'.join([url, key]))\n",
        "\n",
        "with open('/root/.cdsapirc') as f:\n",
        "    print(f.read())"
      ]
    },
    {
      "cell_type": "code",
      "execution_count": null,
      "metadata": {
        "id": "fccQDTrpsGYV"
      },
      "outputs": [],
      "source": [
        "client = cdsapi.Client()"
      ]
    },
    {
      "cell_type": "code",
      "execution_count": null,
      "metadata": {
        "colab": {
          "base_uri": "https://localhost:8080/"
        },
        "id": "wux1SCaIsGYW",
        "outputId": "77709757-64f7-4912-e905-1ebee32964e9"
      },
      "outputs": [],
      "source": [
        "day = 15\n",
        "month = 3\n",
        "year = 2024\n",
        "\n",
        "singlelevelfields = [\n",
        "                        '10m_u_component_of_wind',\n",
        "                        '10m_v_component_of_wind',\n",
        "                        '2m_temperature',\n",
        "                        'geopotential',\n",
        "                        'land_sea_mask',\n",
        "                        'mean_sea_level_pressure',\n",
        "                        'toa_incident_solar_radiation',\n",
        "                        'total_precipitation'\n",
        "                    ]\n",
        "\n",
        "client.retrieve(\n",
        "    'reanalysis-era5-single-levels',\n",
        "    {\n",
        "        'product_type': 'reanalysis',\n",
        "        'variable': singlelevelfields,\n",
        "        'grid': '1.0/1.0',\n",
        "        'year': [year],\n",
        "        'month': [month],\n",
        "        'day': [day],\n",
        "        'time': ['12:00', '13:00', '14:00', '15:00', '16:00', '17:00', '18:00'], # time of first prediction\n",
        "        'format': 'netcdf'\n",
        "    },\n",
        "    'single-level-truth.nc'\n",
        ")"
      ]
    },
    {
      "cell_type": "code",
      "execution_count": null,
      "metadata": {
        "id": "TEBULGq9RjXQ"
      },
      "outputs": [],
      "source": [
        "with open(\"single-level-truth.nc\", \"rb\") as f:\n",
        "  eval_targets = xarray.load_dataset(f).compute()\n",
        "\n",
        "# Europe in the middle + Map not upside down :\n",
        "# in the longitude dimension, map values higher than 180 to values - 360\n",
        "eval_targets[\"longitude\"] = xarray.where(eval_targets['longitude'] > 180, eval_targets['longitude'] - 360, eval_targets['longitude'])\n",
        "# sort example_batch by latitude and longitude\n",
        "eval_targets = eval_targets.sortby([\"latitude\", \"longitude\"])\n",
        "\n",
        "# eval_targets = xarray.open_dataset('single-level-truth.nc', engine = scipy.__name__).to_dataframe()\n",
        "# eval_targets = eval_targets.rename(columns = {col:singlelevelfields[ind] for ind, col in enumerate(eval_targets.columns.values.tolist())})\n",
        "# eval_targets = eval_targets.rename(columns = {'geopotential': 'geopotential_at_surface'})\n",
        "\n",
        "# eval_targets = eval_targets.sort_index()\n",
        "# eval_targets['total_precipitation_6hr'] = eval_targets.groupby(level=[0, 1])['total_precipitation'].rolling(window = 6, min_periods = 1).sum().reset_index(level=[0, 1], drop=True)\n",
        "# eval_targets.pop('total_precipitation')\n"
      ]
    },
    {
      "cell_type": "markdown",
      "metadata": {
        "id": "0PBwB22msGYX"
      },
      "source": [
        "### Compare with predictions"
      ]
    },
    {
      "cell_type": "code",
      "execution_count": null,
      "metadata": {
        "id": "BWQbzI1lUMUW"
      },
      "outputs": [],
      "source": [
        "predictions = pd.read_csv(\"predictions.csv\")\n",
        "predictions = predictions.rename(columns = {\"lon\": \"longitude\", \"lat\": \"latitude\", \"10m_u_component_of_wind\": \"u10\", \"10m_v_component_of_wind\": \"v10\", \"2m_temperature\": \"t2m\", \"geopotential\":\"z\", \"mean_sea_level_pressure\":\"msl\", \"total_precipitation_6hr\":\"tp\"})\n",
        "\n",
        "# select only one pressure level (closest to surface)\n",
        "predictions = predictions.loc[(predictions.level == 50)]\n",
        "predictions[\"time\"] = pd.to_datetime(predictions[\"time\"])\n",
        "predictions[\"longitude\"] = predictions[\"longitude\"].apply(lambda x: x - 360 if x > 180 else x)\n",
        "predictions.sort_values(by = ['longitude', 'latitude', 'time'], inplace = True)\n",
        "predictions.set_index(['time', 'latitude', 'longitude'], inplace = True)\n",
        "predictions = predictions.drop(['batch','level'], axis = 1)\n",
        "predictions = xarray.Dataset.from_dataframe(predictions)\n",
        "\n",
        "# convert all floats to float32\n",
        "predictions = predictions.astype(np.float32)\n",
        "\n",
        "predictions"
      ]
    },
    {
      "cell_type": "code",
      "execution_count": null,
      "metadata": {
        "id": "j_QVBiQTsGYX"
      },
      "outputs": [],
      "source": [
        "plot_size = 5\n",
        "\n",
        "plot_pred_level = 50\n",
        "plot_pred_robust = True\n",
        "plot_max_steps = 1 # min(predictions.dims[\"time\"], plot_pred_max_steps.value)\n",
        "\n",
        "\n",
        "# eval_targets = example_batch\n",
        "\n",
        "variables = [\"t2m\", \"u10\", \"msl\"]\n",
        "\n",
        "for variable in variables:\n",
        "  plot_pred_variable = variable\n",
        "\n",
        "  data = {\n",
        "      \"Targets\": scale(select(eval_targets, plot_pred_variable, plot_pred_level, plot_max_steps), robust=plot_pred_robust),\n",
        "      \"Predictions\": scale(select(predictions, plot_pred_variable, plot_pred_level, plot_max_steps), robust=plot_pred_robust),\n",
        "      \"Diff\": scale((select(eval_targets, plot_pred_variable, plot_pred_level, plot_max_steps) -\n",
        "                          select(predictions, plot_pred_variable, plot_pred_level, plot_max_steps)),\n",
        "                        robust=plot_pred_robust, center=0),\n",
        "  }\n",
        "  fig_title = plot_pred_variable\n",
        "  if \"level\" in predictions[plot_pred_variable].coords:\n",
        "    fig_title += f\" at {plot_pred_level} hPa\"\n",
        "\n",
        "  plot_data(data, fig_title, plot_size, plot_pred_robust)"
      ]
    },
    {
      "cell_type": "code",
      "execution_count": null,
      "metadata": {
        "id": "FXMuurZowLpa"
      },
      "outputs": [],
      "source": []
    }
  ],
  "metadata": {
    "colab": {
      "provenance": []
    },
    "kernelspec": {
      "display_name": "graphcast",
      "language": "python",
      "name": "python3"
    },
    "language_info": {
      "name": "python",
      "version": "3.8.8"
    }
  },
  "nbformat": 4,
  "nbformat_minor": 0
}
